{
 "cells": [
  {
   "cell_type": "code",
   "execution_count": 23,
   "metadata": {},
   "outputs": [],
   "source": [
    "import numpy as np\n",
    "import numba\n",
    "\n",
    "def ellpack_spmv_single_thread(N, b, val, J, x):\n",
    "    \"\"\"ELLPACK format based SpMV (y=Ax)\"\"\"\n",
    "    \n",
    "    y = np.zeros(N, dtype=np.float64)\n",
    "    for i in range(N):\n",
    "        for k in range(b):\n",
    "            if val[k + b * i] != 0:\n",
    "                y[i] += val[k + b * i] * x[J[k + b * i]]\n",
    "    \n",
    "    return y\n",
    "\n",
    "@numba.jit(nopython=True, parallel=True, nogil=True, fastmath=True)\n",
    "def ellpack_spmv_multi_thread(N, b, val, J, x):\n",
    "    \"\"\"ELLPACK format based SpMV (y=Ax)\"\"\"\n",
    "    \n",
    "    y = np.zeros(N, dtype=np.float64)\n",
    "    for i in numba.prange(N):\n",
    "        for k in range(b):\n",
    "            if val[k + b * i] != 0:\n",
    "                y[i] += val[k + b * i] * x[J[k + b * i]]\n",
    "    \n",
    "    return y"
   ]
  },
  {
   "cell_type": "code",
   "execution_count": 24,
   "metadata": {},
   "outputs": [],
   "source": [
    "#[[a, 0, b, 0],\n",
    "# [0, c, 0, d],\n",
    "# [0, e, 0, 0],\n",
    "# [0, 0, 0, f]]\n",
    "\n",
    "# a = 1.11, b = 3.33, c = 2.22, d = 4.44, e = 5.55, f = 6.66\n",
    "\n",
    "A = np.array([1.11, 3.33, 2.22, 4.44, 5.55, 0, 6.66, 0, 0], dtype=np.float64)\n",
    "J = np.array([0, 2, 1, 3, 1, 0, 3, 0])\n",
    "N = 4 # number of row\n",
    "MaxEntriesByRows = 2 # max col\n",
    "\n",
    "x = np.array([2.22, 3.33, 4.44, 5.55], dtype=np.float64)"
   ]
  },
  {
   "cell_type": "code",
   "execution_count": 25,
   "metadata": {},
   "outputs": [
    {
     "name": "stdout",
     "output_type": "stream",
     "text": [
      "CPU times: user 35 µs, sys: 0 ns, total: 35 µs\n",
      "Wall time: 37.9 µs\n"
     ]
    }
   ],
   "source": [
    "%time y = ellpack_spmv_single_thread(N, MaxEntriesByRows, A, J, x)"
   ]
  },
  {
   "cell_type": "code",
   "execution_count": 27,
   "metadata": {},
   "outputs": [
    {
     "name": "stdout",
     "output_type": "stream",
     "text": [
      "CPU times: user 24 µs, sys: 0 ns, total: 24 µs\n",
      "Wall time: 29.1 µs\n"
     ]
    }
   ],
   "source": [
    "%time y = ellpack_spmv_multi_thread(N, MaxEntriesByRows, A, J, x)"
   ]
  },
  {
   "cell_type": "code",
   "execution_count": 28,
   "metadata": {},
   "outputs": [
    {
     "data": {
      "text/plain": [
       "array([17.2494, 32.0346, 18.4815, 36.963 ])"
      ]
     },
     "execution_count": 28,
     "metadata": {},
     "output_type": "execute_result"
    }
   ],
   "source": [
    "y"
   ]
  }
 ],
 "metadata": {
  "kernelspec": {
   "display_name": "Python 3",
   "language": "python",
   "name": "python3"
  },
  "language_info": {
   "codemirror_mode": {
    "name": "ipython",
    "version": 3
   },
   "file_extension": ".py",
   "mimetype": "text/x-python",
   "name": "python",
   "nbconvert_exporter": "python",
   "pygments_lexer": "ipython3",
   "version": "3.8.5"
  }
 },
 "nbformat": 4,
 "nbformat_minor": 4
}

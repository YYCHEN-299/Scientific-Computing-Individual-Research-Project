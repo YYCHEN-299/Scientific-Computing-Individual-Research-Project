{
 "cells": [
  {
   "cell_type": "code",
   "execution_count": 37,
   "metadata": {},
   "outputs": [],
   "source": [
    "import math\n",
    "import numpy as np\n",
    "\n",
    "def CSR_to_SELLPACK(rowptr, colidx, val, slice_height):\n",
    "    \"\"\"Convert CSR format to Sliced ELLPACK format\"\"\"\n",
    "    \n",
    "    N = len(rowptr) - 1 # number of rows\n",
    "    slice_number = math.ceil(N / slice_height) # how many slices\n",
    "    nnz_count = 0\n",
    "    \n",
    "    ell_colidx = []\n",
    "    ell_sliceptr = []\n",
    "    ell_val = []\n",
    "    \n",
    "    for i in range(slice_number):\n",
    "        max_nnz = 0\n",
    "        for s in range(slice_height - 1):\n",
    "            col_count = rowptr[i * slice_height + s + 1] - rowptr[i * slice_height + s]\n",
    "            max_nnz = max(max_nnz, col_count)\n",
    "        \n",
    "        ell_sliceptr.append(nnz_count)\n",
    "        for j in range(max_nnz):\n",
    "            for k in range(slice_height):\n",
    "                idx = i * slice_height + k # row index\n",
    "                now_ptr = rowptr[idx] # start index of this row\n",
    "                next_ptr = rowptr[idx + 1] # start index of next row\n",
    "                nnz_count += 1 # count non-zero number\n",
    "                \n",
    "                if now_ptr + j < next_ptr:\n",
    "                    ell_colidx.append(colidx[now_ptr + j])\n",
    "                    ell_val.append(val[now_ptr + j])\n",
    "                else:\n",
    "                    ell_colidx.append(-1) # -1 means invalid\n",
    "                    ell_val.append(0) # padded zero\n",
    "                \n",
    "    ell_sliceptr.append(nnz_count)\n",
    "    return ell_colidx, ell_sliceptr, ell_val"
   ]
  },
  {
   "cell_type": "code",
   "execution_count": 38,
   "metadata": {},
   "outputs": [],
   "source": [
    "#[[a, 0, b, 0],\n",
    "# [0, c, 0, d],\n",
    "# [0, e, 0, 0],\n",
    "# [0, 0, 0, f]]\n",
    "\n",
    "# a = 1.11, b = 3.33, c = 2.22, d = 4.44, e = 5.55, f = 6.66\n",
    "\n",
    "rowptr = np.array([0, 2, 4, 5, 6])\n",
    "colidx = np.array([0, 2, 1, 3, 1, 3])\n",
    "val = np.array([1.11, 3.33, 2.22, 4.44, 5.55, 6.66], dtype=np.float64)\n",
    "\n",
    "slice_height = 2\n",
    "ell_colidx, ell_sliceptr, ell_val = CSR_to_SELLPACK(rowptr, colidx, val, slice_height)"
   ]
  },
  {
   "cell_type": "code",
   "execution_count": 39,
   "metadata": {},
   "outputs": [
    {
     "data": {
      "text/plain": [
       "[0, 1, 2, 3, 1, 3]"
      ]
     },
     "execution_count": 39,
     "metadata": {},
     "output_type": "execute_result"
    }
   ],
   "source": [
    "ell_colidx"
   ]
  },
  {
   "cell_type": "code",
   "execution_count": 40,
   "metadata": {},
   "outputs": [
    {
     "data": {
      "text/plain": [
       "[0, 4, 6]"
      ]
     },
     "execution_count": 40,
     "metadata": {},
     "output_type": "execute_result"
    }
   ],
   "source": [
    "ell_sliceptr"
   ]
  },
  {
   "cell_type": "code",
   "execution_count": 41,
   "metadata": {},
   "outputs": [
    {
     "data": {
      "text/plain": [
       "[1.11, 2.22, 3.33, 4.44, 5.55, 6.66]"
      ]
     },
     "execution_count": 41,
     "metadata": {},
     "output_type": "execute_result"
    }
   ],
   "source": [
    "ell_val"
   ]
  }
 ],
 "metadata": {
  "kernelspec": {
   "display_name": "Python 3",
   "language": "python",
   "name": "python3"
  },
  "language_info": {
   "codemirror_mode": {
    "name": "ipython",
    "version": 3
   },
   "file_extension": ".py",
   "mimetype": "text/x-python",
   "name": "python",
   "nbconvert_exporter": "python",
   "pygments_lexer": "ipython3",
   "version": "3.8.5"
  }
 },
 "nbformat": 4,
 "nbformat_minor": 4
}

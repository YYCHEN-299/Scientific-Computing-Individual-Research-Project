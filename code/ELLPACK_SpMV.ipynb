{
 "cells": [
  {
   "cell_type": "code",
   "execution_count": 1,
   "metadata": {},
   "outputs": [],
   "source": [
    "import numpy as np\n",
    "import numba"
   ]
  },
  {
   "cell_type": "code",
   "execution_count": 30,
   "metadata": {},
   "outputs": [],
   "source": [
    "def ellpack_spmv_single_thread(N, b, val, J, x):\n",
    "    y = np.zeros(N, dtype=np.float64)\n",
    "    for i in range(N):\n",
    "        for k in range(b):\n",
    "            if(val[k + N * i] != 0):\n",
    "                y[i] += val[k + N * i] * x[J[k + N * i]];\n",
    "    \n",
    "    return y\n",
    "\n",
    "@numba.njit\n",
    "def ellpack_spmv_multi_thread(N, b, val, J, x):\n",
    "    y = np.zeros(N, dtype=np.float64)\n",
    "    for i in numba.prange(N):\n",
    "        for k in range(b):\n",
    "            if(val[k + N * i] != 0):\n",
    "                y[i] += val[k + N * i] * x[J[k + N * i]];\n",
    "    \n",
    "    return y"
   ]
  },
  {
   "cell_type": "code",
   "execution_count": 31,
   "metadata": {},
   "outputs": [],
   "source": [
    "A = np.array([1.11, 2.22, 0, 3.33, 0, 0, 4.44, 5.55, 6.66], dtype=np.float64)\n",
    "J = np.array([0, 2, 0, 2, 0, 0, 0, 1, 2])\n",
    "N = 3 # number of row\n",
    "MaxEntriesByRows = 3 # max col\n",
    "\n",
    "x = np.array([2.22, 3.33, 4.44], dtype=np.float64)"
   ]
  },
  {
   "cell_type": "code",
   "execution_count": 35,
   "metadata": {},
   "outputs": [
    {
     "name": "stdout",
     "output_type": "stream",
     "text": [
      "CPU times: user 36 µs, sys: 0 ns, total: 36 µs\n",
      "Wall time: 39.1 µs\n"
     ]
    }
   ],
   "source": [
    "%time y = ellpack_spmv_single_thread(N, MaxEntriesByRows, A, J, x)"
   ]
  },
  {
   "cell_type": "code",
   "execution_count": 37,
   "metadata": {},
   "outputs": [
    {
     "name": "stdout",
     "output_type": "stream",
     "text": [
      "CPU times: user 18 µs, sys: 0 ns, total: 18 µs\n",
      "Wall time: 20 µs\n"
     ]
    }
   ],
   "source": [
    "%time y = ellpack_spmv_multi_thread(N, MaxEntriesByRows, A, J, x)"
   ]
  },
  {
   "cell_type": "code",
   "execution_count": 38,
   "metadata": {},
   "outputs": [
    {
     "data": {
      "text/plain": [
       "array([12.321 , 14.7852, 57.9087])"
      ]
     },
     "execution_count": 38,
     "metadata": {},
     "output_type": "execute_result"
    }
   ],
   "source": [
    "y"
   ]
  }
 ],
 "metadata": {
  "kernelspec": {
   "display_name": "Python 3",
   "language": "python",
   "name": "python3"
  },
  "language_info": {
   "codemirror_mode": {
    "name": "ipython",
    "version": 3
   },
   "file_extension": ".py",
   "mimetype": "text/x-python",
   "name": "python",
   "nbconvert_exporter": "python",
   "pygments_lexer": "ipython3",
   "version": "3.8.5"
  }
 },
 "nbformat": 4,
 "nbformat_minor": 4
}

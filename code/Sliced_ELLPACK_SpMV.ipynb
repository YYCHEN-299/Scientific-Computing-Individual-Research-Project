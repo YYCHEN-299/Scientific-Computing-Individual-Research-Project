{
 "cells": [
  {
   "cell_type": "code",
   "execution_count": 18,
   "metadata": {},
   "outputs": [],
   "source": [
    "import numpy as np\n",
    "import numba\n",
    "\n",
    "def sliced_ellpack_spmv_single_thread(N, slice_ptr, colidx, val, x, slice_height):\n",
    "    \"\"\"Sliced ELLPACK format based SpMV (y=Ax)\"\"\"\n",
    "    \n",
    "    y = np.zeros(N, dtype=np.float64)\n",
    "    for s in range(0, N, slice_height):\n",
    "        for r in range(s, s + slice_height, 1):\n",
    "            s_ptr = int(s / slice_height)\n",
    "            for i in range(slice_ptr[s_ptr] + r - s, slice_ptr[s_ptr + 1], slice_height):\n",
    "                y[r] += x[colidx[i]] * val[i]\n",
    "    \n",
    "    return y\n",
    "\n",
    "@numba.njit\n",
    "def sliced_ellpack_spmv_multi_thread(N, slice_ptr, colidx, val, x, slice_height):\n",
    "    \"\"\"Sliced ELLPACK format based SpMV (y=Ax)\"\"\"\n",
    "    \n",
    "    y = np.zeros(N, dtype=np.float64)\n",
    "    for s in numba.prange(0, N, slice_height):\n",
    "        for r in range(s, s + slice_height, 1):\n",
    "            s_ptr = int(s / slice_height)\n",
    "            for i in range(slice_ptr[s_ptr] + r - s, slice_ptr[s_ptr + 1], slice_height):\n",
    "                y[r] += x[colidx[i]] * val[i]\n",
    "    \n",
    "    return y"
   ]
  },
  {
   "cell_type": "code",
   "execution_count": 19,
   "metadata": {},
   "outputs": [],
   "source": [
    "#[[a, 0, b, 0],\n",
    "# [0, c, 0, d],\n",
    "# [0, e, 0, 0],\n",
    "# [0, 0, 0, f]]\n",
    "\n",
    "# slice 1: [[a, b], [c, d]]\n",
    "# slice 2: [[e], [f]]\n",
    "\n",
    "# a = 1.11, b = 3.33, c = 2.22, d = 4.44, e = 5.55, f = 6.66\n",
    "\n",
    "N = 4 # number of row\n",
    "slice_height = 2\n",
    "colidx = np.array([0, 1, 2, 3, 1, 3]) # column indices\n",
    "val = np.array([1.11, 2.22, 3.33, 4.44, 5.55, 6.66], dtype=np.float64) # nonzero values and padded zeros\n",
    "slice_ptr = np.array([0, 4, 6])\n",
    "x = np.array([2.22, 3.33, 4.44, 5.55], dtype=np.float64)"
   ]
  },
  {
   "cell_type": "code",
   "execution_count": 30,
   "metadata": {},
   "outputs": [
    {
     "name": "stdout",
     "output_type": "stream",
     "text": [
      "CPU times: user 43 µs, sys: 1e+03 ns, total: 44 µs\n",
      "Wall time: 46 µs\n"
     ]
    }
   ],
   "source": [
    "%time y = sliced_ellpack_spmv_single_thread(N, slice_ptr, colidx, val, x, slice_height)"
   ]
  },
  {
   "cell_type": "code",
   "execution_count": 43,
   "metadata": {},
   "outputs": [
    {
     "name": "stdout",
     "output_type": "stream",
     "text": [
      "CPU times: user 19 µs, sys: 1e+03 ns, total: 20 µs\n",
      "Wall time: 22.9 µs\n"
     ]
    }
   ],
   "source": [
    "%time y = sliced_ellpack_spmv_multi_thread(N, slice_ptr, colidx, val, x, slice_height)"
   ]
  },
  {
   "cell_type": "code",
   "execution_count": 44,
   "metadata": {},
   "outputs": [
    {
     "data": {
      "text/plain": [
       "array([17.2494, 32.0346, 18.4815, 36.963 ])"
      ]
     },
     "execution_count": 44,
     "metadata": {},
     "output_type": "execute_result"
    }
   ],
   "source": [
    "y"
   ]
  }
 ],
 "metadata": {
  "kernelspec": {
   "display_name": "Python 3",
   "language": "python",
   "name": "python3"
  },
  "language_info": {
   "codemirror_mode": {
    "name": "ipython",
    "version": 3
   },
   "file_extension": ".py",
   "mimetype": "text/x-python",
   "name": "python",
   "nbconvert_exporter": "python",
   "pygments_lexer": "ipython3",
   "version": "3.8.5"
  }
 },
 "nbformat": 4,
 "nbformat_minor": 4
}

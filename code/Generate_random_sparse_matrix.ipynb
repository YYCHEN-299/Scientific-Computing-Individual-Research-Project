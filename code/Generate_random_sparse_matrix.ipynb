{
 "cells": [
  {
   "cell_type": "code",
   "execution_count": 431,
   "metadata": {},
   "outputs": [],
   "source": [
    "import numpy as np\n",
    "import numba\n",
    "import random\n",
    "import math\n",
    "\n",
    "def csr_spmv_single_thread(rowptr, colidx, val, x):\n",
    "    \"\"\"CSR format based SpMV (y=Ax)\"\"\"\n",
    "    \n",
    "    num_row = len(rowptr) - 1\n",
    "    y = np.zeros(num_row, dtype=np.float64)\n",
    "    \n",
    "    for i in range(num_row):\n",
    "        col_start = rowptr[i]\n",
    "        col_end = rowptr[i + 1]\n",
    "        for j in range(col_start, col_end):\n",
    "            y[i] += val[j] * x[colidx[j]]\n",
    "    \n",
    "    return y\n",
    "\n",
    "@numba.jit(nopython=True, parallel=True, cache=True, nogil=True)\n",
    "def csr_spmv_multi_thread(rowptr, colidx, val, x):\n",
    "    \"\"\"CSR format based SpMV (y=Ax)\"\"\"\n",
    "    \n",
    "    num_row = len(rowptr) - 1\n",
    "    y = np.zeros(num_row, dtype=np.float64)\n",
    "    \n",
    "    for i in numba.prange(num_row):\n",
    "        col_start = rowptr[i]\n",
    "        col_end = rowptr[i + 1]\n",
    "        for j in range(col_start, col_end):\n",
    "            y[i] += val[j] * x[colidx[j]]\n",
    "    \n",
    "    return y\n",
    "\n",
    "def sliced_ellpack_spmv_single_thread(N, slice_ptr, colidx, val, x, slice_height):\n",
    "    \"\"\"Sliced ELLPACK format based SpMV (y=Ax)\"\"\"\n",
    "    \n",
    "    y = np.zeros(N, dtype=np.float64)\n",
    "    slice_count = int(N / slice_height)\n",
    "    for s in range(slice_count):\n",
    "        row_idx = s * slice_height\n",
    "        for r in range(row_idx, row_idx + slice_height):\n",
    "            for i in range(slice_ptr[s] + r - row_idx, slice_ptr[s + 1], slice_height):\n",
    "                y[r] += x[colidx[i]] * val[i]\n",
    "    \n",
    "    return y\n",
    "\n",
    "@numba.jit(nopython=True, parallel=True, cache=True, nogil=True)\n",
    "def sliced_ellpack_spmv_multi_thread(N, slice_ptr, colidx, val, x, slice_height):\n",
    "    \"\"\"Sliced ELLPACK format based SpMV (y=Ax)\"\"\"\n",
    "    \n",
    "    y = np.zeros(N, dtype=np.float64)\n",
    "    slice_count = int(N / slice_height)\n",
    "    for s in numba.prange(slice_count):\n",
    "        row_idx = s * slice_height\n",
    "        for r in range(row_idx, row_idx + slice_height):\n",
    "            for i in range(slice_ptr[s] + r - row_idx, slice_ptr[s + 1], slice_height):\n",
    "                y[r] += x[colidx[i]] * val[i]\n",
    "    \n",
    "    return y\n",
    "\n",
    "def random_spmatrix(n_row, n_col):\n",
    "    \"\"\"Output a random value sparse matrix\"\"\"\n",
    "    \n",
    "    sp_matrix = []\n",
    "    nnz_count = 0\n",
    "    row_max_nnz = 0\n",
    "    for i in range(n_row):\n",
    "        row_data = []\n",
    "        row_nnz_count = 0\n",
    "        for j in range(n_col):\n",
    "            r_val = random.randint(1, 100)\n",
    "            if r_val <= 50 and i % 5 != 0:\n",
    "                row_data.append(0)\n",
    "            else:\n",
    "                nnz_count += 1\n",
    "                row_nnz_count += 1\n",
    "                row_data.append(r_val)\n",
    "        row_max_nnz = max(row_max_nnz, row_nnz_count)\n",
    "        sp_matrix.append(row_data)\n",
    "    \n",
    "    return sp_matrix, nnz_count, row_max_nnz\n",
    "\n",
    "def spmatrix_to_CSR(sp_matrix):\n",
    "    \"\"\"Convert sparse matrix to CSR format\"\"\"\n",
    "    \n",
    "    n_row = len(sp_matrix)\n",
    "    n_col = len(sp_matrix[0])\n",
    "    \n",
    "    rowptr = []\n",
    "    colidx = []\n",
    "    val = []\n",
    "    nnz_count = 0\n",
    "    \n",
    "    for i in range(n_row):\n",
    "        rowptr.append(nnz_count)\n",
    "        for j in range(n_col):\n",
    "            if sp_matrix[i][j] != 0:\n",
    "                nnz_count += 1\n",
    "                colidx.append(j)\n",
    "                val.append(sp_matrix[i][j])\n",
    "    rowptr.append(nnz_count)\n",
    "    \n",
    "    return np.array(rowptr), np.array(colidx), np.array(val, dtype=np.float64)\n",
    "\n",
    "def CSR_to_SELLPACK(rowptr, colidx, val, slice_height):\n",
    "    \"\"\"Convert CSR format to Sliced ELLPACK format\"\"\"\n",
    "    \n",
    "    N = len(rowptr) - 1 # number of rows\n",
    "    slice_number = math.ceil(N / slice_height) # how many slices\n",
    "    nnz_count = 0\n",
    "    \n",
    "    ell_colidx = []\n",
    "    ell_sliceptr = []\n",
    "    ell_val = []\n",
    "    \n",
    "    for i in range(slice_number):\n",
    "        max_nnz = 0\n",
    "        for s in range(slice_height):\n",
    "            col_count = rowptr[i * slice_height + s + 1] - rowptr[i * slice_height + s]\n",
    "            max_nnz = max(max_nnz, col_count)\n",
    "        \n",
    "        ell_sliceptr.append(nnz_count)\n",
    "        for j in range(max_nnz):\n",
    "            for k in range(slice_height):\n",
    "                idx = i * slice_height + k # row index\n",
    "                now_ptr = rowptr[idx] # start index of this row\n",
    "                next_ptr = rowptr[idx + 1] # start index of next row\n",
    "                nnz_count += 1 # count non-zero number\n",
    "                if now_ptr + j < next_ptr:\n",
    "                    ell_colidx.append(colidx[now_ptr + j])\n",
    "                    ell_val.append(val[now_ptr + j])\n",
    "                else:\n",
    "                    ell_colidx.append(-1) # -1 means invalid\n",
    "                    ell_val.append(0) # padded zero\n",
    "    ell_sliceptr.append(nnz_count)\n",
    "    \n",
    "    return np.array(ell_colidx), np.array(ell_sliceptr), np.array(ell_val, dtype=np.float64)"
   ]
  },
  {
   "cell_type": "code",
   "execution_count": 432,
   "metadata": {},
   "outputs": [
    {
     "name": "stdout",
     "output_type": "stream",
     "text": [
      "600072 non-zero elements in this sparse matrix (60.007200000000005%).\n",
      "Row average non-zero elements: 600.072, row max non-zero elements: 1000\n"
     ]
    }
   ],
   "source": [
    "# set number of rows, columns and slice height\n",
    "n_row = 1000\n",
    "n_col = 1000\n",
    "# generate a sparse matrix fill with random value\n",
    "sp_matrix, nnz_count, row_max_nnz = random_spmatrix(n_row, n_col)\n",
    "nnz_per = (nnz_count / (n_row * n_col)) * 100\n",
    "avg_nnz = nnz_count / n_row\n",
    "print(str(nnz_count) + \" non-zero elements in this sparse matrix (\" + str(nnz_per) + \"%).\")\n",
    "print(\"Row average non-zero elements: \" + str(avg_nnz) + \", row max non-zero elements: \" + str(row_max_nnz))"
   ]
  },
  {
   "cell_type": "code",
   "execution_count": 433,
   "metadata": {},
   "outputs": [],
   "source": [
    "# convert sparse matrix to CSR format\n",
    "csr_rowptr, csr_colidx, csr_val = spmatrix_to_CSR(sp_matrix)"
   ]
  },
  {
   "cell_type": "code",
   "execution_count": 434,
   "metadata": {},
   "outputs": [],
   "source": [
    "slice_height = 10\n",
    "# convert CSR to Sliced ELLPACK\n",
    "ell_colidx, ell_sliceptr, ell_val = CSR_to_SELLPACK(csr_rowptr, csr_colidx, csr_val, slice_height)"
   ]
  },
  {
   "cell_type": "code",
   "execution_count": 435,
   "metadata": {},
   "outputs": [],
   "source": [
    "# generate x array\n",
    "x = np.ones(n_col, dtype=np.float64)\n",
    "x *= 12.3"
   ]
  },
  {
   "cell_type": "code",
   "execution_count": 247,
   "metadata": {},
   "outputs": [
    {
     "name": "stdout",
     "output_type": "stream",
     "text": [
      "CPU times: user 18.2 s, sys: 29.9 ms, total: 18.2 s\n",
      "Wall time: 18.2 s\n"
     ]
    }
   ],
   "source": [
    "%time csr_y = csr_spmv_single_thread(csr_rowptr, csr_colidx, csr_val, x)"
   ]
  },
  {
   "cell_type": "code",
   "execution_count": 437,
   "metadata": {},
   "outputs": [
    {
     "name": "stdout",
     "output_type": "stream",
     "text": [
      "CPU times: user 3.35 ms, sys: 1.01 ms, total: 4.36 ms\n",
      "Wall time: 2.26 ms\n"
     ]
    }
   ],
   "source": [
    "%time csr_y = csr_spmv_multi_thread(csr_rowptr, csr_colidx, csr_val, x)"
   ]
  },
  {
   "cell_type": "code",
   "execution_count": 246,
   "metadata": {},
   "outputs": [
    {
     "name": "stdout",
     "output_type": "stream",
     "text": [
      "CPU times: user 23.9 s, sys: 169 ms, total: 24 s\n",
      "Wall time: 24.6 s\n"
     ]
    }
   ],
   "source": [
    "%time ellpack_y = sliced_ellpack_spmv_single_thread(n_row, ell_sliceptr, ell_colidx, ell_val, x, slice_height)"
   ]
  },
  {
   "cell_type": "code",
   "execution_count": 444,
   "metadata": {},
   "outputs": [
    {
     "name": "stdout",
     "output_type": "stream",
     "text": [
      "CPU times: user 6.09 ms, sys: 1.4 ms, total: 7.49 ms\n",
      "Wall time: 6.06 ms\n"
     ]
    }
   ],
   "source": [
    "%time ellpack_y = sliced_ellpack_spmv_multi_thread(n_row, ell_sliceptr, ell_colidx, ell_val, x, slice_height)"
   ]
  },
  {
   "cell_type": "code",
   "execution_count": 271,
   "metadata": {},
   "outputs": [
    {
     "data": {
      "text/plain": [
       "0.0"
      ]
     },
     "execution_count": 271,
     "metadata": {},
     "output_type": "execute_result"
    }
   ],
   "source": [
    "sum(csr_y - ellpack_y) # check the result"
   ]
  }
 ],
 "metadata": {
  "kernelspec": {
   "display_name": "Python 3",
   "language": "python",
   "name": "python3"
  },
  "language_info": {
   "codemirror_mode": {
    "name": "ipython",
    "version": 3
   },
   "file_extension": ".py",
   "mimetype": "text/x-python",
   "name": "python",
   "nbconvert_exporter": "python",
   "pygments_lexer": "ipython3",
   "version": "3.8.5"
  }
 },
 "nbformat": 4,
 "nbformat_minor": 4
}

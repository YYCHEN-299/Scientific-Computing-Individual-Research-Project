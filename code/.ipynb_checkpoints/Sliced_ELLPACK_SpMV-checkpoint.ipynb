{
 "cells": [
  {
   "cell_type": "code",
   "execution_count": null,
   "metadata": {},
   "outputs": [],
   "source": [
    "import numpy as np\n",
    "import numba\n",
    "\n",
    "def sliced_ellpack_spmv_single_thread(N, b, val, J, x, slice_height):\n",
    "    \"\"\"Sliced ELLPACK format based SpMV (y=Ax)\"\"\"\n",
    "    \n",
    "    y = np.zeros(N, dtype=np.float64)\n",
    "    for s in range(0, N, slice_height):\n",
    "        for r in range(s, s + slice_height, 1):\n",
    "            for i in range(slice_ptr[s / slice_height], slice_ptr[s / slice_height + 1], slice_height):\n",
    "                y[r] += x[colidx[i]] * val[i]\n",
    "    \n",
    "    return y\n",
    "\n",
    "@numba.njit\n",
    "def sliced_ellpack_spmv_multi_thread(N, b, val, J, x):\n",
    "    \"\"\"Sliced ELLPACK format based SpMV (y=Ax)\"\"\"\n",
    "    \n",
    "    y = np.zeros(N, dtype=np.float64)\n",
    "    \n",
    "    \n",
    "    return y"
   ]
  },
  {
   "cell_type": "code",
   "execution_count": null,
   "metadata": {},
   "outputs": [],
   "source": [
    "slice_height = 8\n",
    "rlen = [] # actual length of each row\n",
    "colidx = [] # column indices\n",
    "val = [] # nonzero values and padded zeros\n"
   ]
  },
  {
   "cell_type": "code",
   "execution_count": null,
   "metadata": {},
   "outputs": [],
   "source": [
    "A = np.array([1.11, 2.22, 0, 3.33, 0, 0, 4.44, 5.55, 6.66], dtype=np.float64)\n",
    "J = np.array([0, 2, 0, 2, 0, 0, 0, 1, 2])\n",
    "N = 3 # number of row\n",
    "MaxEntriesByRows = 3 # max col\n",
    "\n",
    "x = np.array([2.22, 3.33, 4.44], dtype=np.float64)"
   ]
  },
  {
   "cell_type": "code",
   "execution_count": null,
   "metadata": {},
   "outputs": [],
   "source": [
    "%time y = sliced_ellpack_spmv_single_thread(N, MaxEntriesByRows, A, J, x)"
   ]
  },
  {
   "cell_type": "code",
   "execution_count": null,
   "metadata": {},
   "outputs": [],
   "source": [
    "%time y = sliced_ellpack_spmv_multi_thread(N, MaxEntriesByRows, A, J, x)"
   ]
  },
  {
   "cell_type": "code",
   "execution_count": null,
   "metadata": {},
   "outputs": [],
   "source": [
    "y"
   ]
  },
  {
   "cell_type": "code",
   "execution_count": 16,
   "metadata": {},
   "outputs": [
    {
     "name": "stdout",
     "output_type": "stream",
     "text": [
      "s = 0, r = 0, i = 0\n",
      "s = 0, r = 0, i = 2\n",
      "s = 0, r = 1, i = 1\n",
      "s = 0, r = 1, i = 3\n",
      "s = 2, r = 2, i = 4\n",
      "s = 2, r = 3, i = 5\n"
     ]
    }
   ],
   "source": [
    "slice_height = 2\n",
    "N = 4\n",
    "slice_ptr = [0, 4, 6]\n",
    "val = [1, 2, 3, 4, 5, 6]\n",
    "x = [2, 3, 4, 5, 6, 7]\n",
    "\n",
    "for s in range(0, N, slice_height): # 一次输入几行 并行运行\n",
    "    for r in range(s, s + slice_height, 1): # 对每一行进行计算\n",
    "        s_ptr = int(s / slice_height) # 第几个切片\n",
    "        for i in range(slice_ptr[s_ptr] + r - s, slice_ptr[s_ptr + 1], slice_height): # 读取val中的数据\n",
    "            print(\"s = \" + str(s) + \", r = \" + str(r) + \", i = \" + str(i))\n",
    "            \n",
    "# Q: 是否需要写把正常矩阵转换成ellpack格式的算法"
   ]
  }
 ],
 "metadata": {
  "kernelspec": {
   "display_name": "Python 3",
   "language": "python",
   "name": "python3"
  },
  "language_info": {
   "codemirror_mode": {
    "name": "ipython",
    "version": 3
   },
   "file_extension": ".py",
   "mimetype": "text/x-python",
   "name": "python",
   "nbconvert_exporter": "python",
   "pygments_lexer": "ipython3",
   "version": "3.8.5"
  }
 },
 "nbformat": 4,
 "nbformat_minor": 4
}

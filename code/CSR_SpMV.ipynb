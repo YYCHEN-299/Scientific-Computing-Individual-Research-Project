{
 "cells": [
  {
   "cell_type": "code",
   "execution_count": 1,
   "metadata": {},
   "outputs": [],
   "source": [
    "import numpy as np\n",
    "import numba\n",
    "\n",
    "def csr_spmv_single_thread(rowptr, colidx, val, x):\n",
    "    \"\"\"CSR format based SpMV (y=Ax)\"\"\"\n",
    "    \n",
    "    num_row = len(rowptr) - 1\n",
    "    y = np.zeros(num_row, dtype=np.float64)\n",
    "    \n",
    "    for i in numba.prange(num_row):\n",
    "        col_start = rowptr[i]\n",
    "        col_end = rowptr[i + 1]\n",
    "        for j in range(col_start, col_end):\n",
    "            y[i] += val[j] * x[colidx[j]]\n",
    "    \n",
    "    return y\n",
    "\n",
    "@numba.njit\n",
    "def csr_spmv_multi_thread(rowptr, colidx, val, x):\n",
    "    \"\"\"CSR format based SpMV (y=Ax)\"\"\"\n",
    "    \n",
    "    num_row = len(rowptr) - 1\n",
    "    y = np.zeros(num_row, dtype=np.float64)\n",
    "    \n",
    "    for i in numba.prange(num_row):\n",
    "        col_start = rowptr[i]\n",
    "        col_end = rowptr[i + 1]\n",
    "        for j in range(col_start, col_end):\n",
    "            y[i] += val[j] * x[colidx[j]]\n",
    "    \n",
    "    return y"
   ]
  },
  {
   "cell_type": "code",
   "execution_count": 2,
   "metadata": {},
   "outputs": [],
   "source": [
    "rowptr = np.array([0, 2, 3, 6])\n",
    "colidx = np.array([0, 2, 2, 0, 1, 2])\n",
    "val = np.array([1.11, 2.22, 3.33, 4.44, 5.55, 6.66], dtype=np.float64)\n",
    "\n",
    "x = np.array([2.22, 3.33, 4.44], dtype=np.float64)"
   ]
  },
  {
   "cell_type": "code",
   "execution_count": 9,
   "metadata": {},
   "outputs": [
    {
     "name": "stdout",
     "output_type": "stream",
     "text": [
      "Wall time: 0 ns\n"
     ]
    }
   ],
   "source": [
    "%time y = csr_spmv_single_thread(rowptr, colidx, val, x)"
   ]
  },
  {
   "cell_type": "code",
   "execution_count": 10,
   "metadata": {},
   "outputs": [
    {
     "name": "stdout",
     "output_type": "stream",
     "text": [
      "Wall time: 0 ns\n"
     ]
    }
   ],
   "source": [
    "%time y = csr_spmv_multi_thread(rowptr, colidx, val, x)"
   ]
  },
  {
   "cell_type": "code",
   "execution_count": 11,
   "metadata": {},
   "outputs": [
    {
     "data": {
      "text/plain": [
       "array([12.321 , 14.7852, 57.9087])"
      ]
     },
     "execution_count": 11,
     "metadata": {},
     "output_type": "execute_result"
    }
   ],
   "source": [
    "y"
   ]
  }
 ],
 "metadata": {
  "kernelspec": {
   "display_name": "Python 3",
   "language": "python",
   "name": "python3"
  },
  "language_info": {
   "codemirror_mode": {
    "name": "ipython",
    "version": 3
   },
   "file_extension": ".py",
   "mimetype": "text/x-python",
   "name": "python",
   "nbconvert_exporter": "python",
   "pygments_lexer": "ipython3",
   "version": "3.8.5"
  }
 },
 "nbformat": 4,
 "nbformat_minor": 4
}

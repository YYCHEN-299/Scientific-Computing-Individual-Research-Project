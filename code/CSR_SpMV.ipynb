{
 "cells": [
  {
   "cell_type": "code",
   "execution_count": 103,
   "metadata": {},
   "outputs": [],
   "source": [
    "import numpy as np\n",
    "import numba\n",
    "\n",
    "def csr_spmv_single_thread(rowptr, colidx, val, x):\n",
    "    \"\"\"CSR format based SpMV (y=Ax)\"\"\"\n",
    "    \n",
    "    num_row = len(rowptr) - 1\n",
    "    y = np.zeros(num_row, dtype=np.float64)\n",
    "    \n",
    "    for i in range(num_row):\n",
    "        col_start = rowptr[i]\n",
    "        col_end = rowptr[i + 1]\n",
    "        for j in range(col_start, col_end):\n",
    "            y[i] += val[j] * x[colidx[j]]\n",
    "    \n",
    "    return y\n",
    "\n",
    "@numba.njit\n",
    "def csr_spmv_multi_thread(rowptr, colidx, val, x):\n",
    "    \"\"\"CSR format based SpMV (y=Ax)\"\"\"\n",
    "    \n",
    "    num_row = len(rowptr) - 1\n",
    "    y = np.zeros(num_row, dtype=np.float64)\n",
    "    \n",
    "    for i in numba.prange(num_row):\n",
    "        col_start = rowptr[i]\n",
    "        col_end = rowptr[i + 1]\n",
    "        for j in range(col_start, col_end):\n",
    "            y[i] += val[j] * x[colidx[j]]\n",
    "    \n",
    "    return y"
   ]
  },
  {
   "cell_type": "code",
   "execution_count": 15,
   "metadata": {},
   "outputs": [],
   "source": [
    "#[[a, 0, b, 0],\n",
    "# [0, c, 0, d],\n",
    "# [0, e, 0, 0],\n",
    "# [0, 0, 0, f]]\n",
    "\n",
    "# a = 1.11, b = 3.33, c = 2.22, d = 4.44, e = 5.55, f = 6.66\n",
    "\n",
    "rowptr = np.array([0, 2, 4, 5, 6])\n",
    "colidx = np.array([0, 2, 1, 3, 1, 3])\n",
    "val = np.array([1.11, 3.33, 2.22, 4.44, 5.55, 6.66], dtype=np.float64)\n",
    "\n",
    "x = np.array([2.22, 3.33, 4.44, 5.55], dtype=np.float64)"
   ]
  },
  {
   "cell_type": "code",
   "execution_count": 21,
   "metadata": {},
   "outputs": [
    {
     "name": "stdout",
     "output_type": "stream",
     "text": [
      "CPU times: user 43 µs, sys: 1 µs, total: 44 µs\n",
      "Wall time: 47.9 µs\n"
     ]
    }
   ],
   "source": [
    "%time y = csr_spmv_single_thread(rowptr, colidx, val, x)"
   ]
  },
  {
   "cell_type": "code",
   "execution_count": 23,
   "metadata": {},
   "outputs": [
    {
     "name": "stdout",
     "output_type": "stream",
     "text": [
      "CPU times: user 18 µs, sys: 1 µs, total: 19 µs\n",
      "Wall time: 21 µs\n"
     ]
    }
   ],
   "source": [
    "%time y = csr_spmv_multi_thread(rowptr, colidx, val, x)"
   ]
  },
  {
   "cell_type": "code",
   "execution_count": 24,
   "metadata": {},
   "outputs": [
    {
     "data": {
      "text/plain": [
       "array([17.2494, 32.0346, 18.4815, 36.963 ])"
      ]
     },
     "execution_count": 24,
     "metadata": {},
     "output_type": "execute_result"
    }
   ],
   "source": [
    "y"
   ]
  }
 ],
 "metadata": {
  "kernelspec": {
   "display_name": "Python 3",
   "language": "python",
   "name": "python3"
  },
  "language_info": {
   "codemirror_mode": {
    "name": "ipython",
    "version": 3
   },
   "file_extension": ".py",
   "mimetype": "text/x-python",
   "name": "python",
   "nbconvert_exporter": "python",
   "pygments_lexer": "ipython3",
   "version": "3.8.5"
  }
 },
 "nbformat": 4,
 "nbformat_minor": 4
}
